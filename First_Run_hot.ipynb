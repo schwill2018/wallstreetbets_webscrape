{
 "cells": [
  {
   "cell_type": "code",
   "execution_count": 1,
   "id": "c0545f15-c353-43e8-960b-3aa971da2268",
   "metadata": {},
   "outputs": [],
   "source": [
    "from reddit_keys import reddit_user, reddit_pw, reddit_secret_token, reddit_clientID\n",
    "import praw\n",
    "import pandas as pd\n",
    "import numpy as np\n",
    "import pickle\n",
    "import json\n",
    "from datetime import datetime"
   ]
  },
  {
   "cell_type": "code",
   "execution_count": 2,
   "id": "11570644-6050-470d-9c8d-a716c2bab48f",
   "metadata": {},
   "outputs": [],
   "source": [
    "reddit = praw.Reddit(client_id = reddit_clientID,\n",
    "                     client_secret = reddit_secret_token,\n",
    "                     user_agent = 'WSB_search',\n",
    "                     username = reddit_user,\n",
    "                     password = reddit_pw)"
   ]
  },
  {
   "cell_type": "code",
   "execution_count": 3,
   "id": "344b02d5-dda4-4eff-a271-b1232f67d0bb",
   "metadata": {},
   "outputs": [],
   "source": [
    "sub_dict = {}\n",
    "sub_dict_1 = {}\n",
    "sub_wsb = reddit.subreddit('wallstreetbets')\n",
    "top_sub = sub_wsb.hot(limit=100)\n",
    "sub_words = []\n",
    "sub_time = []\n",
    "sub_id = []\n",
    "sub_upv = []\n",
    "#sub_comments = []"
   ]
  },
  {
   "cell_type": "code",
   "execution_count": 4,
   "id": "cb68450a-38da-41a8-b4ab-ffbdbe3d5ef6",
   "metadata": {},
   "outputs": [],
   "source": [
    "#Access list of words from top titles in the sub \n",
    "for sub in top_sub:\n",
    "    title_1 = sub.title\n",
    "    time = sub.created_utc\n",
    "    s_id =sub.id\n",
    "    up_votes = sub.score\n",
    "    #cmnts = sub.comments\n",
    "    title_words = title_1\n",
    "    sub_words.append(title_words)\n",
    "    sub_id.append(s_id)\n",
    "    sub_time.append(time)\n",
    "    sub_upv.append(up_votes)\n",
    "    #sub_comments.append(cmnts)\n",
    "   "
   ]
  },
  {
   "cell_type": "code",
   "execution_count": 5,
   "id": "593bb742-be46-428b-a4a7-71e7da6e6506",
   "metadata": {
    "scrolled": true
   },
   "outputs": [],
   "source": [
    "keys = ['id','title','time','up_votes']\n",
    "values = [sub_id, sub_words, sub_time, sub_upv]\n",
    "\n",
    "id_dict = {num: sub_id[num] for num in range(len(sub_id))}\n",
    "word_dict = {num: sub_words[num].split() for num in range(len(sub_words))}\n",
    "time_dict = {num: sub_time[num] for num in range(len(sub_time))}\n",
    "upv_dict = {num: sub_upv[num] for num in range(len(sub_upv))}\n",
    "#cmnts_dict = {num: sub_comments[num] for num in range(len(sub_comments))}\n",
    "list_o_dicts = [id_dict, word_dict, time_dict, upv_dict]\n",
    "sub_dict['posts'] = {keys[num]: list_o_dicts[num] for num in range(len(list_o_dicts))}\n"
   ]
  },
  {
   "cell_type": "code",
   "execution_count": 6,
   "id": "a4909271-e597-467a-b5a4-c6552311cce8",
   "metadata": {},
   "outputs": [],
   "source": [
    "### DO NOT RUN THIS CODE AFTER FIRST PARSING!!! WILL RERUN WHOLE API GET AND POTENTIALLY INCUR UNWANTED CALL FEES!\n",
    "with open('data_hot.pkl','wb') as pickle_file:\n",
    "    pickle.dump(sub_id, pickle_file)\n",
    "\n",
    "## Write JSON file\n",
    "with open('data_hot.json','w') as json_file:\n",
    "    json.dump(sub_dict['posts'], json_file)\n"
   ]
  },
  {
   "cell_type": "code",
   "execution_count": null,
   "id": "294b4af7-33c5-4ce3-9946-1b8c4646ac42",
   "metadata": {},
   "outputs": [],
   "source": []
  },
  {
   "cell_type": "code",
   "execution_count": null,
   "id": "0885a748-ed56-48db-8054-a9fbdac16aa7",
   "metadata": {},
   "outputs": [],
   "source": []
  },
  {
   "cell_type": "code",
   "execution_count": null,
   "id": "ff00c06e-8cbd-4f17-843c-df57ed1ef0ab",
   "metadata": {},
   "outputs": [],
   "source": []
  }
 ],
 "metadata": {
  "kernelspec": {
   "display_name": "Python 3",
   "language": "python",
   "name": "python3"
  },
  "language_info": {
   "codemirror_mode": {
    "name": "ipython",
    "version": 3
   },
   "file_extension": ".py",
   "mimetype": "text/x-python",
   "name": "python",
   "nbconvert_exporter": "python",
   "pygments_lexer": "ipython3",
   "version": "3.8.8"
  }
 },
 "nbformat": 4,
 "nbformat_minor": 5
}
