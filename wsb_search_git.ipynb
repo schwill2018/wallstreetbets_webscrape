{
 "cells": [
  {
   "cell_type": "code",
   "execution_count": 1,
   "id": "87a92d31-737b-42d2-a189-b0a98fd04af8",
   "metadata": {},
   "outputs": [],
   "source": [
    "from reddit_keys_blank import reddit_user, reddit_pw, reddit_secret_token, reddit_clientID\n",
    "import praw\n",
    "import pandas as pd"
   ]
  },
  {
   "cell_type": "code",
   "execution_count": 3,
   "id": "77ceb381-9d2d-45a0-99b3-3aa6b807d7da",
   "metadata": {},
   "outputs": [
    {
     "name": "stderr",
     "output_type": "stream",
     "text": [
      "Version 7.2.0 of praw is outdated. Version 7.4.0 was released Friday July 30, 2021.\n"
     ]
    }
   ],
   "source": [
    "reddit = praw.Reddit(client_id = reddit_clientID,\n",
    "                     client_secret = reddit_secret_token,\n",
    "                     user_agent = 'WSB_search',\n",
    "                     username = reddit_user,\n",
    "                     password = reddit_pw)"
   ]
  },
  {
   "cell_type": "code",
   "execution_count": 4,
   "id": "5e43527b-bdd1-4dbb-a322-327cf3de139a",
   "metadata": {},
   "outputs": [],
   "source": [
    "sub_wsb = reddit.subreddit('wallstreetbets')\n",
    "top_sub = sub_wsb.new(limit=100)\n",
    "word_collect = []"
   ]
  },
  {
   "cell_type": "code",
   "execution_count": 5,
   "id": "8c6ff044-d973-404d-aa4f-e65e726dff87",
   "metadata": {},
   "outputs": [
    {
     "name": "stdout",
     "output_type": "stream",
     "text": [
      "[['Increase', 'LEVERAGE', 'through', 'DEEP', 'ITM', 'Options'], ['Thanks', 'WSB,', 'even', 'broken', 'clocks', 'are', 'right', 'twice', 'a', 'day'], ['You', 'should', 'be', 'coming', 'here', 'for', 'the', 'YOLO', 'loss,', 'so', 'here', 'you', 'go.', 'Also,', 'some', 'mad', 'gains', 'got', 'a', 'WSB', 'gf...', 'a', 'true', 'retard', 'Ape', 'story', 'posted', 'in', 'comments'], ['Fucked', 'today', '😞'], ['Beary', 'VXXciting', 'Day', 'but', 'sorry', '😞'], ['The', \"Investor's\", 'Creed'], ['WISH', '100%', 'confirmed', 'breakout,', 'first', 'ever', 'full', 'multi', 'candle', 'Break', 'AND', 'close', 'above', 'resistance', 'line', 'that’s', 'pushed', 'it', 'down', 'since', 'february', 'after', 'the', 'IPO.', 'This', 'is', 'the', 'first', 'signal', 'of', 'a', 'major', 'upside', 'reversal.', 'S.T', 'target', '7.80', '-8.50,', 'M.T', 'target', '10-12,', 'L.T', 'target', '15-20+,', 'timeframe', 'depends', 'on', 'monentum'], ['Down', '18k', 'in', '30', 'minutes', '🤡'], ['$IRNT', 'Bagholders', 'now.'], ['Alternative', 'to', 'YOLOing'], ['Honestly', 'could', 'not', 'believe', 'that', 'X', 'was', 'this', 'cheap', 'today', 'hope', 'everyone', 'hops', 'on.', 'Clearly', 'we', 'are', 'below', 'support', 'looking', 'to', 'see', 'a', 'nice', 'bounce', 'here.'], ['IRNT', 'Gains,', 'had', 'to', 'crop', 'because', 'some', 'tickers', 'are', 'no', 'no', 'to', 'auto', 'mod.', 'Still', 'holding', '1k', 'shares', 'and', 'Oct', '30c', 'Thank', 'you', 'for', 'helping', 'me', 'break', '6', 'figs.'], ['$IRNT', 'small', 'put', 'gains'], ['My', 'first', 'Autist', 'YOLO', 'option', 'move.', 'Got', 'distracted.', 'I', 'meant', 'to', 'buy', '10,', 'bought', 'a', '1000', 'instead.', '(CSCO', '70', 'jan', '21', 'calls)'], ['WSB', 'Right', 'now'], ['Oil', 'is', 'going', 'to', '$80-100/Barrel...', 'MRO', '-', 'GO', 'BABY', 'GO!'], ['1,000', 'FCEL', '$7', 'OCT', '1', 'CALLS'], ['Palantir', 'requires', '10', 'plus', 'years', 'of', 'experience', 'for', 'candidates', 'applying', 'to', 'join', 'its', 'sales', 'team.', 'This', 'company', 'really', 'only', 'hires', 'the', 'best', 'of', 'the', 'best.'], ['Meme', 'Wannabes'], ['ASHMORE', 'BLACKROCK', 'HSBC', 'UBS', 'Exposure', 'to', 'Evergrande', 'bonds', 'released', 'by', 'Yahoo.'], ['SDC', 'Yolo', 'Update'], ['FOMOers', 'be', 'like...'], ['My', 'IRNT', 'loss', 'porn,', 'went', 'from', '4k', 'to', '15k', 'to', '2k', 'in', 'two', 'days'], ['UPDATE', 'AMC', 'GME', 'SHORT', 'I’m', 'surprised', 'GME', 'has', 'stuck', 'in', 'it’s', 'current', 'area'], ['The', 'expert', 'analysis', 'of', 'the', 'common', 'WSB', 'Bull'], ['Where', 'to', 'start', '?!'], ['Final', 'Update:', '$IRNT'], ['19', 'million', 'WISH', 'shares', 'bought', 'after', 'hours.'], ['$SPCE', 'time', 'to', 'go', 'to', 'the', 'moon'], ['SPY', 'YOLO', '1DTE', '(44k)'], ['‘Take', 'those', 'profits’:', 'Strategist', 'says', 'extreme', 'market', 'moves', 'are', 'on', 'the', 'horizon'], [\"u/deepfuckingvalue's\", 'ex-employer', 'MassMutual', 'is', 'being', 'fined', 'for', 'not', 'keeping', 'an', 'eye', 'on', 'him.'], ['Dutch', 'BRO$', 'yolo'], ['New', 'CEO', 'just', 'purchased', '330,000', 'shares'], ['Bears', 'in', 'control'], ['Weekend', 'Discussion', 'Thread', 'for', 'the', 'Weekend', 'of', 'September', '17,', '2021'], ['$VLTA', 'YOLO..', 'playing', 'De-spac', 'is', 'how', 'I', 'feel', 'alive.'], ['$BROS', 'YOLO', 'DUTCH', 'BROTHERS', 'TO', 'THE', 'MOON'], ['Goodbye', 'SPX?'], ['Time', 'to', 'go', 'to', 'the', 'Moon', 'on', 'Monday', '$SDC'], ['going', 'bearish', 'SPY', 'into', 'November', 'here', 'breaking', 'down', 'bearish', 'wedge', 'building', 'since', '2020', 'September', 'today'], ['Michael', 'J.', 'Burry', 'just', 'tweeted'], ['IRNT', 'Right', 'Now'], ['Stocks', 'to', 'hedge', 'against', 'inflation', '-', 'Canada'], ['Why', '$TMC', 'Could', 'Go', 'Up', 'Monday'], ['Prepare', 'for', 'the', 'Pain'], ['Evergrande', 'Bondholders', 'Find', 'No', 'Takers', 'in', 'Efforts', 'to', 'Hedge', 'Risk'], ['Fed', 'Chief', 'Powell,', 'other', 'officials', 'owned', 'securities', 'central', 'bank', 'bought', 'during', 'Covid', 'pandemic'], ['DNA…the', 'new', 'mRNA', 'Stock'], ['Microsoft', 'GitHub', 'rival', 'GitLab', 'files', 'to', 'go', 'public', 'after', 'annualized', 'revenue', 'tops', '$200', 'million'], ['$15k', 'IRNT', 'options', 'loss', '-', 'I', 'deserve', 'this'], ['$CLF', 'YOLO', 'with', 'margin.', 'Not', 'selling', 'until', 'it', 'hits', '$33'], ['SPIR', '-', '\"the', 'next', '$xxxx\"'], ['China', 'Adds', '$14', 'Billion', 'Cash', 'as', 'Evergrande’s', 'Pain', 'Roils', 'Markets'], ['CRM.', 'Chart', 'Analysis', 'and', 'Bull', 'Thesis', 'for', 'near', 'term', '(2-4', 'months).', 'Coming', 'out', 'of', 'an', 'Inverse', 'Head', 'And', 'Shoulders', 'after', 'a', 'Long', 'Term', 'breakout.', 'Target', '$320'], ['OSCR', '-', 'Insiders', 'are', 'loading', 'up.'], ['Chinese', 'developer', 'Evergrande', 'is', 'likely', 'to', 'default', 'and', 'cause', \"China's\", 'economy', 'to', 'crash.'], ['CLBT', 'is', 'a', 'monster', 'even', 'without', 'a', 'squeeze', '—', 'high', 'growth,', 'undervalued', 'business', 'with', 'top-tier', 'names', 'running', 'it', 'and', 'in', 'the', 'PIPE.', 'High', 'redemptions', 'and', 'share', 'lockup', 'make', 'it', 'a', 'good', 'squeeze', 'candidate', 'as', 'icing', 'on', 'the', 'cake.'], ['See', 'you', 'behind', 'the', 'Wendy’s'], ['9K', 'bet', 'against', 'DASH,,reaches75B', 'valuation', 'without', 'any', 'profit👎👎'], ['UPST', 'gains'], ['I', 'remember', 'March', '8th,', '2011', 'Tesla', 'shares', 'were', 'sold', 'at', 'an', 'opening', 'price', 'of', '$4.92', 'per', 'share.', 'Can', 'Lucid', '$LCID', 'hit', '$200-$300', 'within', '3-4', 'years?'], ['Why', 'De-SPAC', 'Squueze', 'Plays', 'are', 'tanking', 'today', 'and', 'Why', 'am', 'I', 'still', 'optimistic'], ['Peter,', 'I', 'believe', 'in', 'you!', 'ABCL'], ['Roast', 'Me🥺😭'], ['Noticing', 'we', 'are', 'at', 'tip', 'of', 'falling', 'wedge', 'pattern', 'for', 'many', '“speculative”', 'growth', 'stocks.', 'Anyone', 'agree?'], ['Robert', 'Kaplan', '-', 'Dallas', 'Fed', 'President', '-', 'Holding', 'details', 'as', 'filed', '-', 'all', 'pages', '-', 'no', 'link.'], ['Evergrande', 'isn’t', 'a', 'Black', 'Swan…But,', 'defaulting', 'on', '$300B', 'is', 'definitely', 'a', 'Red', 'Crayon'], ['$ASTS', 'rebound', 'confirmation,', 'get', 'on', 'the', 'bus', 'as', 'this', 'is', 'the', 'last', 'stop', 'before', 'the', 'moon'], ['A', 'modest', '$26K', 'on', 'the', 'month', 'since', 'I', 'started', 'trolling', 'WSB.', 'Some', 'trades', 'based', 'on', 'my', 'own', 'decision', 'but', 'some', 'ideas', 'came', 'from', 'you', 'guys.'], ['OH', 'YEAH'], ['Exercised', '$200k', '$IRNT', 'calls', '🚀', 'doing', 'my', 'part'], ['All', 'in', '$WISH'], ['100k', 'yolo', 'for', 'the', 'GREEN', 'CRAYONs', '$SDC'], ['About', 'time', 'to', 'cash', 'out', 'and', 'start', 'over'], ['Shorting', 'the', 'used', 'car', 'market'], ['I', 'STILL', 'BELIVE', '-', 'doubled', 'down', 'on', '40s', 'for', 'next', 'week'], ['50K', '$LILM', 'Yolo.', \"Let's\", 'see', 'what', 'happens'], ['Posts', 'on', 'IRNT', 'Hedging', 'Are', 'Wrong:', 'From', 'the', 'Person', 'Who', 'Predicted', 'Gamestop'], ['$LILM', 'YOLO.', 'DE-SPAC', 'IS', 'FREE', 'MONEY'], ['AMC', 'and', 'GME', 'short', 'update', '9/17/21', 'fuck', 'you', 'retards'], ['I', 'honestly', 'thought', 'I', 'was', 'starting', 'to', 'get', 'good', 'at', 'this😞'], ['Welp', \"let's\", 'go'], ['VLTA', '-', 'bla', 'bla', 'DE-SPAC', 'blabla', 'GAMMA', 'RAMP', 'bla', 'bla', 'LOW', 'IV', 'blabla', 'bla', 'SHORT', 'INTRIST', 'blalbla'], ['Update:', 'TODAY', '$ASTS', 'Porn', 'Play', 'has', 'an', 'extremely', 'high', 'potential', 'of', 'Gamma/Short', 'SQUEEZING!', 'We', 'are', 'still', 'at', 'preEjaculation', 'stage...'], ['$ROOT', 'Gamma', 'for', 'today?'], ['When', 'you', 'say', 'a', 'prayer', 'and', 'Reddit', 'listens', '#SDC'], ['The', 'run-up', 'in', '$LEV', 'has', 'just', 'started.', 'Hop', 'on', 'before', 'its', 'too', 'late'], ['Valero', '(VLO)'], ['🦍🚀', 'READ', 'THIS', 'IF', 'YOU', 'MISSED', 'OUT', 'ON', 'IRNT', '🚀🦍'], ['$61K', 'Rocket', 'Lab', 'YOLO', 'Update', '-', 'Up', '~', '$39K', 'as', 'of', 'open', 'this', 'morning', 'on', 'RKLB'], ['$DOMA', 'has', '6.6', 'days', 'of', 'short', 'interest', 'ratio,', 'low', 'float', '-->', 'Gamma', 'Squeeze?'], ['GME', 'is', 'about', 'to', 'fuk', 'u', 'with', 'its', 'negative', 'beta.'], ['$500K', 'DNA', 'YOLO,', 'Being', 'a', 'degen', 'is', 'in', 'my', 'DNA'], ['$OPAD', 'Update', '-', 'local', 'WSB', 'retard', 'is', \"eatin'\", 'like', 'Diane', 'Keaton', 'as', 'stock', 'primes', 'for', 'launch'], ['$24k', 'to', '$184k', 'in', 'a', 'few', 'weeks.', 'Biggest', 'gain', 'was', 'from', \"yesterday's\", 'SPY', 'Rally.', 'Hoping', 'to', 'ride', 'it', 'down', 'today', 'on', '0DTE.', \"I'll\", 'post', 'the', 'lost', 'porn', 'later.', '🤫'], ['This', 'is', 'going', 'straight', 'to', '0.', 'Great', 'research', 'by', 'Scorpion', 'capital.'], ['$75K', 'SDC', 'YOLO..really', 'think', 'this', 'thing', 'could', 'go', 'nuclear', 'today!'], ['Electron', 'please', 'fly', 'again,', 'RKLB', '🚀'], ['The', 'Night', 'Before', 'Quad', 'Witching']]\n"
     ]
    }
   ],
   "source": [
    "for sub in top_sub:\n",
    "    title_1 = sub.title\n",
    "    title_words = title_1.split()\n",
    "    word_collect.append(title_words)\n",
    "\n",
    "print(word_collect)"
   ]
  },
  {
   "cell_type": "code",
   "execution_count": 6,
   "id": "fe3dfcd4",
   "metadata": {},
   "outputs": [
    {
     "name": "stdout",
     "output_type": "stream",
     "text": [
      "['LEVERAGE', 'DEEP', 'ITM', 'WSB,', 'WISH', 'AND', 'IPO.', 'S.T', 'M.T', 'L.T', '$IRNT', 'X', 'IRNT', '$IRNT', '(CSCO', 'MRO', 'GO', 'BABY', 'GO!', 'FCEL', 'OCT', 'CALLS', 'ASHMORE', 'BLACKROCK', 'HSBC', 'UBS', 'SDC', 'IRNT', 'UPDATE', 'AMC', 'GME', 'SHORT', 'GME', '$IRNT', 'WISH', '$SPCE', 'SPY', '1DTE', 'BRO$', '$VLTA', 'YOLO..', '$BROS', 'DUTCH', 'BROTHERS', 'TO', 'THE', 'MOON', 'SPX?', '$SDC', 'SPY', 'J.', 'IRNT', '$TMC', 'IRNT', '$CLF', 'SPIR', 'CRM.', 'OSCR', 'CLBT', 'PIPE.', '9K', 'UPST', '$LCID', 'ABCL', '$300B', '$ASTS', 'A', '$26K', 'OH', 'YEAH', '$IRNT', '$WISH', 'GREEN', '$SDC', 'BELIVE', '50K', '$LILM', 'IRNT', '$LILM', 'YOLO.', 'DE-SPAC', 'IS', 'FREE', 'AMC', 'GME', 'VLTA', 'DE-SPAC', 'GAMMA', 'RAMP', 'LOW', 'IV', 'SHORT', 'INTRIST', 'TODAY', '$ASTS', 'SQUEEZING!', '$ROOT', '#SDC', '$LEV', '(VLO)', 'READ', 'THIS', 'IF', 'YOU', 'MISSED', 'OUT', 'ON', 'IRNT', '$61K', '$39K', 'RKLB', '$DOMA', 'GME', '$500K', 'DNA', 'YOLO,', 'DNA', '$OPAD', 'SPY', '0DTE.', '$75K', 'SDC', 'RKLB']\n"
     ]
    }
   ],
   "source": [
    "## GRAB KNOWN STONKS\n",
    "stonks_potential = []\n",
    "known_not_stonks = ['UPVOTE','SUPPORT','YOLO','ROPE','$ROPE','ACTION','AGAINST','ROBINHOOD','GAIN','LOSS','PORN%','CRAMER','ELON','CHAMATH','WSB','WSB.','I','STILL',\"DIDN'T\",'HEAR','NO','BELL','JORDAN','BELFORT','WIFE','BOYFRIEND','WISHTARD','CEO', 'INTERVIEW', 'POINTS','DD','GAMBLING','GAMBLE','MARGIN','UNUSUAL','OPTIONS','ACTIVITY', 'TENDIES','MONEY','COMING','EXTREMELY','REVOLUTION','APES','DD','GOOOOO','90K']\n",
    "\n",
    "\n",
    "# add in words that start with '$'\n",
    "for title in word_collect:\n",
    "    for word in title:\n",
    "        if word.isupper() and word not in known_not_stonks:\n",
    "            stonks_potential.append(word)\n",
    "\n",
    "print(stonks_potential)"
   ]
  },
  {
   "cell_type": "code",
   "execution_count": 7,
   "id": "750c60b3-f609-46ca-994e-e249a02adbe9",
   "metadata": {},
   "outputs": [
    {
     "name": "stdout",
     "output_type": "stream",
     "text": [
      "['LEVERAGE', 'DEEP', 'ITM', 'WSB,', 'WISH', 'AND', 'IPO.', 'S.T', 'M.T', 'L.T', '$IRNT', 'X', 'IRNT', '$IRNT', '(CSCO', 'MRO', 'GO', 'BABY', 'GO!', 'FCEL', 'OCT', 'CALLS', 'ASHMORE', 'BLACKROCK', 'HSBC', 'UBS', 'SDC', 'IRNT', 'UPDATE', 'AMC', 'GME', 'SHORT', 'GME', '$IRNT', 'WISH', '$SPCE', 'SPY', '1DTE', 'BRO$', '$VLTA', 'YOLO..', '$BROS', 'DUTCH', 'BROTHERS', 'TO', 'THE', 'MOON', 'SPX?', '$SDC', 'SPY', 'J.', 'IRNT', '$TMC', 'IRNT', '$CLF', 'SPIR', 'CRM.', 'OSCR', 'CLBT', 'PIPE.', '9K', 'UPST', '$LCID', 'ABCL', '$300B', '$ASTS', 'A', '$26K', 'OH', 'YEAH', '$IRNT', '$WISH', 'GREEN', '$SDC', 'BELIVE', '50K', '$LILM', 'IRNT', '$LILM', 'YOLO.', 'DE-SPAC', 'IS', 'FREE', 'MONEY', 'AMC', 'GME', 'VLTA', 'DE-SPAC', 'GAMMA', 'RAMP', 'LOW', 'IV', 'SHORT', 'INTRIST', 'TODAY', '$ASTS', 'SQUEEZING!', '$ROOT', '#SDC', '$LEV', '(VLO)', 'READ', 'THIS', 'IF', 'YOU', 'MISSED', 'OUT', 'ON', 'IRNT', '$61K', '$39K', 'RKLB', '$DOMA', 'GME', '$500K', 'DNA', 'YOLO,', 'DNA', '$OPAD', 'SPY', '0DTE.', '$75K', 'SDC', 'RKLB']\n"
     ]
    }
   ],
   "source": [
    "## LIST INCLUDING STONKS BUT ALSO OTHER SEMI_VALUABLE ATTACHED INFORMATION (Since these are the top 'new' items in wsb, ALL CAPS typically have short and sweet titles to gage what's going on with these savages)\n",
    "## Some of the words listed might be offensive to some, but the nature of the subreddit lends to depravity, which is why we are making the webscraping more efficient!\n",
    "stonks_potential = []\n",
    "known_not_stonks = ['UPVOTE','SUPPORT','YOLO','ROPE','$ROPE','ACTION','AGAINST','ROBINHOOD','GAIN','LOSS','PORN%','CRAMER','ELON','CHAMATH','WSB','WSB.','I','STILL',\"DIDN'T\",'HEAR','NO','BELL','JORDAN','BELFORT','WIFE','BOYFRIEND','WISHTARD','CEO', 'INTERVIEW', 'POINTS','DD','GAMBLING']\n",
    "\n",
    "\n",
    "# add in words that start with '$'\n",
    "for title in word_collect:\n",
    "    for word in title:\n",
    "        if word.isupper() and word not in known_not_stonks:\n",
    "            stonks_potential.append(word)\n",
    "\n",
    "print(stonks_potential)"
   ]
  },
  {
   "cell_type": "markdown",
   "id": "93c465a6-c769-45c3-96bb-d1a728e10a16",
   "metadata": {},
   "source": [
    " "
   ]
  },
  {
   "cell_type": "markdown",
   "id": "f0e1f51d-19c7-4fc9-b216-609e655b3d37",
   "metadata": {},
   "source": [
    "### From here we can begin to create complex analyses with regards to flow of the daily top tickers. "
   ]
  },
  {
   "cell_type": "markdown",
   "id": "7e393d2d-069f-4668-b462-166f91a614f2",
   "metadata": {},
   "source": [
    "### Do not forget to consider market volatility and options data. Otherwise you will be on the wrong side of the wave..."
   ]
  },
  {
   "cell_type": "code",
   "execution_count": null,
   "id": "28a09b35",
   "metadata": {},
   "outputs": [],
   "source": []
  },
  {
   "cell_type": "code",
   "execution_count": null,
   "id": "c4bc00bc-52c7-4259-9c88-d023174cc480",
   "metadata": {},
   "outputs": [],
   "source": []
  }
 ],
 "metadata": {
  "kernelspec": {
   "display_name": "Python 3",
   "language": "python",
   "name": "python3"
  },
  "language_info": {
   "codemirror_mode": {
    "name": "ipython",
    "version": 3
   },
   "file_extension": ".py",
   "mimetype": "text/x-python",
   "name": "python",
   "nbconvert_exporter": "python",
   "pygments_lexer": "ipython3",
   "version": "3.8.8"
  }
 },
 "nbformat": 4,
 "nbformat_minor": 5
}
